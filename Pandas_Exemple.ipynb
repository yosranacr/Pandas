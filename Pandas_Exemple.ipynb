{
  "nbformat": 4,
  "nbformat_minor": 0,
  "metadata": {
    "colab": {
      "name": "GetSafe Homework",
      "provenance": []
    },
    "kernelspec": {
      "name": "python3",
      "display_name": "Python 3"
    }
  },
  "cells": [
    {
      "cell_type": "code",
      "metadata": {
        "id": "WSbuZ69W-JkY",
        "colab_type": "code",
        "colab": {}
      },
      "source": [
        "\n",
        "import pandas as pd\n",
        "import numpy as np\n",
        "# to set up plotting \n",
        "import matplotlib.pyplot as plt\n",
        "import seaborn as sns\n"
      ],
      "execution_count": 0,
      "outputs": []
    },
    {
      "cell_type": "code",
      "metadata": {
        "id": "Zvx4abuKP74K",
        "colab_type": "code",
        "colab": {
          "base_uri": "https://localhost:8080/",
          "height": 340
        },
        "outputId": "80ed26fb-9fd1-4005-ca77-6156a459ae49"
      },
      "source": [
        "\n",
        "#Reading the cvs file\n",
        "fl = 'https://raw.githubusercontent.com/kiranvasudev/artist/master/artist_data.csv'\n",
        "df = pd.read_csv(fl) \n",
        "\n",
        "# dropping null value columns to avoid errors \n",
        "df.dropna(inplace = True) \n",
        "\n",
        "# Printing the file de vizualize it\n",
        "print(df.columns)\n",
        "df.head(5)\n"
      ],
      "execution_count": 2,
      "outputs": [
        {
          "output_type": "stream",
          "text": [
            "Index(['id', 'name', 'gender', 'dates', 'yearOfBirth', 'yearOfDeath',\n",
            "       'placeOfBirth', 'placeOfDeath', 'url'],\n",
            "      dtype='object')\n"
          ],
          "name": "stdout"
        },
        {
          "output_type": "execute_result",
          "data": {
            "text/html": [
              "<div>\n",
              "<style scoped>\n",
              "    .dataframe tbody tr th:only-of-type {\n",
              "        vertical-align: middle;\n",
              "    }\n",
              "\n",
              "    .dataframe tbody tr th {\n",
              "        vertical-align: top;\n",
              "    }\n",
              "\n",
              "    .dataframe thead th {\n",
              "        text-align: right;\n",
              "    }\n",
              "</style>\n",
              "<table border=\"1\" class=\"dataframe\">\n",
              "  <thead>\n",
              "    <tr style=\"text-align: right;\">\n",
              "      <th></th>\n",
              "      <th>id</th>\n",
              "      <th>name</th>\n",
              "      <th>gender</th>\n",
              "      <th>dates</th>\n",
              "      <th>yearOfBirth</th>\n",
              "      <th>yearOfDeath</th>\n",
              "      <th>placeOfBirth</th>\n",
              "      <th>placeOfDeath</th>\n",
              "      <th>url</th>\n",
              "    </tr>\n",
              "  </thead>\n",
              "  <tbody>\n",
              "    <tr>\n",
              "      <th>1</th>\n",
              "      <td>0</td>\n",
              "      <td>Abbey, Edwin Austin</td>\n",
              "      <td>Male</td>\n",
              "      <td>1852–1911</td>\n",
              "      <td>1852.0</td>\n",
              "      <td>1911.0</td>\n",
              "      <td>Philadelphia, United States</td>\n",
              "      <td>London, United Kingdom</td>\n",
              "      <td>http://www.tate.org.uk/art/artists/edwin-austi...</td>\n",
              "    </tr>\n",
              "    <tr>\n",
              "      <th>2</th>\n",
              "      <td>2756</td>\n",
              "      <td>Abbott, Berenice</td>\n",
              "      <td>Female</td>\n",
              "      <td>1898–1991</td>\n",
              "      <td>1898.0</td>\n",
              "      <td>1991.0</td>\n",
              "      <td>Springfield, United States</td>\n",
              "      <td>Monson, United States</td>\n",
              "      <td>http://www.tate.org.uk/art/artists/berenice-ab...</td>\n",
              "    </tr>\n",
              "    <tr>\n",
              "      <th>3</th>\n",
              "      <td>1</td>\n",
              "      <td>Abbott, Lemuel Francis</td>\n",
              "      <td>Male</td>\n",
              "      <td>1760–1803</td>\n",
              "      <td>1760.0</td>\n",
              "      <td>1803.0</td>\n",
              "      <td>Leicestershire, United Kingdom</td>\n",
              "      <td>London, United Kingdom</td>\n",
              "      <td>http://www.tate.org.uk/art/artists/lemuel-fran...</td>\n",
              "    </tr>\n",
              "    <tr>\n",
              "      <th>5</th>\n",
              "      <td>2606</td>\n",
              "      <td>Absalon</td>\n",
              "      <td>Male</td>\n",
              "      <td>1964–1993</td>\n",
              "      <td>1964.0</td>\n",
              "      <td>1993.0</td>\n",
              "      <td>Tel Aviv-Yafo, Yisra'el</td>\n",
              "      <td>Paris, France</td>\n",
              "      <td>http://www.tate.org.uk/art/artists/absalon-2606</td>\n",
              "    </tr>\n",
              "    <tr>\n",
              "      <th>10</th>\n",
              "      <td>2411</td>\n",
              "      <td>Adam, Robert</td>\n",
              "      <td>Male</td>\n",
              "      <td>1728–1792</td>\n",
              "      <td>1728.0</td>\n",
              "      <td>1792.0</td>\n",
              "      <td>Kirkcaldy, United Kingdom</td>\n",
              "      <td>London, United Kingdom</td>\n",
              "      <td>http://www.tate.org.uk/art/artists/robert-adam...</td>\n",
              "    </tr>\n",
              "  </tbody>\n",
              "</table>\n",
              "</div>"
            ],
            "text/plain": [
              "      id  ...                                                url\n",
              "1      0  ...  http://www.tate.org.uk/art/artists/edwin-austi...\n",
              "2   2756  ...  http://www.tate.org.uk/art/artists/berenice-ab...\n",
              "3      1  ...  http://www.tate.org.uk/art/artists/lemuel-fran...\n",
              "5   2606  ...    http://www.tate.org.uk/art/artists/absalon-2606\n",
              "10  2411  ...  http://www.tate.org.uk/art/artists/robert-adam...\n",
              "\n",
              "[5 rows x 9 columns]"
            ]
          },
          "metadata": {
            "tags": []
          },
          "execution_count": 2
        }
      ]
    },
    {
      "cell_type": "markdown",
      "metadata": {
        "id": "8zJSX7O4_GB0",
        "colab_type": "text"
      },
      "source": [
        "In all of the artists' artwork that lives in the Museums, in which country where the most artists born in? Is there a particular city from where they come from most often?"
      ]
    },
    {
      "cell_type": "code",
      "metadata": {
        "id": "WU9hS02Y_H_f",
        "colab_type": "code",
        "colab": {
          "base_uri": "https://localhost:8080/",
          "height": 289
        },
        "outputId": "e563344a-6370-4d58-a13b-4979f5cde595"
      },
      "source": [
        "# new data frame with split value columns placeOfBirth\n",
        "birth = df[\"placeOfBirth\"].str.split(',' , n = 1, expand = True) \n",
        "  \n",
        "# making separate cityOfBirth column from new data frame \n",
        "df[\"cityOfBirth\"] = birth[0] \n",
        "  \n",
        "# making separate countryOfBirth column from new data frame \n",
        "df[\"countryOfBirth\"] = birth[1] \n",
        "\n",
        "# Dropping old placeOfBirth columns \n",
        "df.drop(columns=[\"placeOfBirth\"], inplace = True) \n",
        "\n",
        "df.head(5)\n"
      ],
      "execution_count": 3,
      "outputs": [
        {
          "output_type": "execute_result",
          "data": {
            "text/html": [
              "<div>\n",
              "<style scoped>\n",
              "    .dataframe tbody tr th:only-of-type {\n",
              "        vertical-align: middle;\n",
              "    }\n",
              "\n",
              "    .dataframe tbody tr th {\n",
              "        vertical-align: top;\n",
              "    }\n",
              "\n",
              "    .dataframe thead th {\n",
              "        text-align: right;\n",
              "    }\n",
              "</style>\n",
              "<table border=\"1\" class=\"dataframe\">\n",
              "  <thead>\n",
              "    <tr style=\"text-align: right;\">\n",
              "      <th></th>\n",
              "      <th>id</th>\n",
              "      <th>name</th>\n",
              "      <th>gender</th>\n",
              "      <th>dates</th>\n",
              "      <th>yearOfBirth</th>\n",
              "      <th>yearOfDeath</th>\n",
              "      <th>placeOfDeath</th>\n",
              "      <th>url</th>\n",
              "      <th>cityOfBirth</th>\n",
              "      <th>countryOfBirth</th>\n",
              "    </tr>\n",
              "  </thead>\n",
              "  <tbody>\n",
              "    <tr>\n",
              "      <th>1</th>\n",
              "      <td>0</td>\n",
              "      <td>Abbey, Edwin Austin</td>\n",
              "      <td>Male</td>\n",
              "      <td>1852–1911</td>\n",
              "      <td>1852.0</td>\n",
              "      <td>1911.0</td>\n",
              "      <td>London, United Kingdom</td>\n",
              "      <td>http://www.tate.org.uk/art/artists/edwin-austi...</td>\n",
              "      <td>Philadelphia</td>\n",
              "      <td>United States</td>\n",
              "    </tr>\n",
              "    <tr>\n",
              "      <th>2</th>\n",
              "      <td>2756</td>\n",
              "      <td>Abbott, Berenice</td>\n",
              "      <td>Female</td>\n",
              "      <td>1898–1991</td>\n",
              "      <td>1898.0</td>\n",
              "      <td>1991.0</td>\n",
              "      <td>Monson, United States</td>\n",
              "      <td>http://www.tate.org.uk/art/artists/berenice-ab...</td>\n",
              "      <td>Springfield</td>\n",
              "      <td>United States</td>\n",
              "    </tr>\n",
              "    <tr>\n",
              "      <th>3</th>\n",
              "      <td>1</td>\n",
              "      <td>Abbott, Lemuel Francis</td>\n",
              "      <td>Male</td>\n",
              "      <td>1760–1803</td>\n",
              "      <td>1760.0</td>\n",
              "      <td>1803.0</td>\n",
              "      <td>London, United Kingdom</td>\n",
              "      <td>http://www.tate.org.uk/art/artists/lemuel-fran...</td>\n",
              "      <td>Leicestershire</td>\n",
              "      <td>United Kingdom</td>\n",
              "    </tr>\n",
              "    <tr>\n",
              "      <th>5</th>\n",
              "      <td>2606</td>\n",
              "      <td>Absalon</td>\n",
              "      <td>Male</td>\n",
              "      <td>1964–1993</td>\n",
              "      <td>1964.0</td>\n",
              "      <td>1993.0</td>\n",
              "      <td>Paris, France</td>\n",
              "      <td>http://www.tate.org.uk/art/artists/absalon-2606</td>\n",
              "      <td>Tel Aviv-Yafo</td>\n",
              "      <td>Yisra'el</td>\n",
              "    </tr>\n",
              "    <tr>\n",
              "      <th>10</th>\n",
              "      <td>2411</td>\n",
              "      <td>Adam, Robert</td>\n",
              "      <td>Male</td>\n",
              "      <td>1728–1792</td>\n",
              "      <td>1728.0</td>\n",
              "      <td>1792.0</td>\n",
              "      <td>London, United Kingdom</td>\n",
              "      <td>http://www.tate.org.uk/art/artists/robert-adam...</td>\n",
              "      <td>Kirkcaldy</td>\n",
              "      <td>United Kingdom</td>\n",
              "    </tr>\n",
              "  </tbody>\n",
              "</table>\n",
              "</div>"
            ],
            "text/plain": [
              "      id                    name  ...     cityOfBirth   countryOfBirth\n",
              "1      0     Abbey, Edwin Austin  ...    Philadelphia    United States\n",
              "2   2756        Abbott, Berenice  ...     Springfield    United States\n",
              "3      1  Abbott, Lemuel Francis  ...  Leicestershire   United Kingdom\n",
              "5   2606                 Absalon  ...   Tel Aviv-Yafo         Yisra'el\n",
              "10  2411            Adam, Robert  ...       Kirkcaldy   United Kingdom\n",
              "\n",
              "[5 rows x 10 columns]"
            ]
          },
          "metadata": {
            "tags": []
          },
          "execution_count": 3
        }
      ]
    },
    {
      "cell_type": "code",
      "metadata": {
        "id": "nUPyA62SFiPh",
        "colab_type": "code",
        "colab": {
          "base_uri": "https://localhost:8080/",
          "height": 51
        },
        "outputId": "1c6f07f3-df4f-4ce1-8964-1720c7977981"
      },
      "source": [
        "# the country where the most artists are born in\n",
        "df[\"countryOfBirth\"].value_counts().head(1)"
      ],
      "execution_count": 4,
      "outputs": [
        {
          "output_type": "execute_result",
          "data": {
            "text/plain": [
              " United Kingdom    741\n",
              "Name: countryOfBirth, dtype: int64"
            ]
          },
          "metadata": {
            "tags": []
          },
          "execution_count": 4
        }
      ]
    },
    {
      "cell_type": "code",
      "metadata": {
        "id": "XVutgLyqL1GM",
        "colab_type": "code",
        "colab": {
          "base_uri": "https://localhost:8080/",
          "height": 51
        },
        "outputId": "76d1a111-d00b-4bea-f601-1b161887b4c8"
      },
      "source": [
        "# the city from where they come from most often\n",
        "df[\"cityOfBirth\"].value_counts().head(1)"
      ],
      "execution_count": 5,
      "outputs": [
        {
          "output_type": "execute_result",
          "data": {
            "text/plain": [
              "London    232\n",
              "Name: cityOfBirth, dtype: int64"
            ]
          },
          "metadata": {
            "tags": []
          },
          "execution_count": 5
        }
      ]
    },
    {
      "cell_type": "code",
      "metadata": {
        "id": "78QedTKsXpe7",
        "colab_type": "code",
        "colab": {
          "base_uri": "https://localhost:8080/",
          "height": 324
        },
        "outputId": "a8220a16-69d5-422f-a062-c515efdc4824"
      },
      "source": [
        "# Plot the result \n",
        "df[\"cityOfBirth\"].value_counts().head(10).plot.bar()"
      ],
      "execution_count": 6,
      "outputs": [
        {
          "output_type": "execute_result",
          "data": {
            "text/plain": [
              "<matplotlib.axes._subplots.AxesSubplot at 0x7f6b82733c18>"
            ]
          },
          "metadata": {
            "tags": []
          },
          "execution_count": 6
        },
        {
          "output_type": "display_data",
          "data": {
            "image/png": "[encoded data removed]",
            "text/plain": [
              "<Figure size 432x288 with 1 Axes>"
            ]
          },
          "metadata": {
            "tags": []
          }
        }
      ]
    },
    {
      "cell_type": "markdown",
      "metadata": {
        "id": "nhtJZcl5L6C-",
        "colab_type": "text"
      },
      "source": [
        "What is the distribution of ages of the artists? What is the average life span of an artist ?"
      ]
    },
    {
      "cell_type": "code",
      "metadata": {
        "id": "c5bipJamMBVi",
        "colab_type": "code",
        "colab": {
          "base_uri": "https://localhost:8080/",
          "height": 282
        },
        "outputId": "b20e4c74-b80f-4578-a7da-b6f8372adf99"
      },
      "source": [
        "# add a new column with the a age of each artist\n",
        "df['age'] = df[\"yearOfDeath\"] - df[\"yearOfBirth\"]\n",
        "\n",
        "# plot by age to vizualize the destribution of ages\n",
        "df['age'].plot(kind='kde')"
      ],
      "execution_count": 7,
      "outputs": [
        {
          "output_type": "execute_result",
          "data": {
            "text/plain": [
              "<matplotlib.axes._subplots.AxesSubplot at 0x7f6b821ec400>"
            ]
          },
          "metadata": {
            "tags": []
          },
          "execution_count": 7
        },
        {
          "output_type": "display_data",
          "data": {
            "image/png": "[encoded data removed]",
            "text/plain": [
              "<Figure size 432x288 with 1 Axes>"
            ]
          },
          "metadata": {
            "tags": []
          }
        }
      ]
    },
    {
      "cell_type": "code",
      "metadata": {
        "id": "ZeNwNxDDOF7U",
        "colab_type": "code",
        "colab": {
          "base_uri": "https://localhost:8080/",
          "height": 34
        },
        "outputId": "9678c4c5-b621-4523-b825-dd2db52b99e8"
      },
      "source": [
        "# the avg lifespan \n",
        "df['age'].mean()"
      ],
      "execution_count": 8,
      "outputs": [
        {
          "output_type": "execute_result",
          "data": {
            "text/plain": [
              "69.67509025270758"
            ]
          },
          "metadata": {
            "tags": []
          },
          "execution_count": 8
        }
      ]
    },
    {
      "cell_type": "markdown",
      "metadata": {
        "id": "GvlGLJ36OjWg",
        "colab_type": "text"
      },
      "source": [
        "What is the ratio of Male to Female artists?"
      ]
    },
    {
      "cell_type": "code",
      "metadata": {
        "id": "amYs_T9VOkOE",
        "colab_type": "code",
        "colab": {
          "base_uri": "https://localhost:8080/",
          "height": 85
        },
        "outputId": "ecae447c-1a06-4368-f84c-bbc10c4b9c33"
      },
      "source": [
        "df.groupby('gender')['gender'].count()"
      ],
      "execution_count": 9,
      "outputs": [
        {
          "output_type": "execute_result",
          "data": {
            "text/plain": [
              "gender\n",
              "Female     118\n",
              "Male      1267\n",
              "Name: gender, dtype: int64"
            ]
          },
          "metadata": {
            "tags": []
          },
          "execution_count": 9
        }
      ]
    },
    {
      "cell_type": "code",
      "metadata": {
        "id": "EKhm9cVHQ5FE",
        "colab_type": "code",
        "colab": {
          "base_uri": "https://localhost:8080/",
          "height": 282
        },
        "outputId": "52c0ca5e-f625-4b8d-c8be-c6daa7d10713"
      },
      "source": [
        "# Plot by gender\n",
        "df['gender'].value_counts()[:20].plot(kind='barh')"
      ],
      "execution_count": 10,
      "outputs": [
        {
          "output_type": "execute_result",
          "data": {
            "text/plain": [
              "<matplotlib.axes._subplots.AxesSubplot at 0x7f6b7ef26ac8>"
            ]
          },
          "metadata": {
            "tags": []
          },
          "execution_count": 10
        },
        {
          "output_type": "display_data",
          "data": {
            "image/png": "[encoded data removed]",
            "text/plain": [
              "<Figure size 432x288 with 1 Axes>"
            ]
          },
          "metadata": {
            "tags": []
          }
        }
      ]
    },
    {
      "cell_type": "markdown",
      "metadata": {
        "id": "OvK-Tu3kWiS2",
        "colab_type": "text"
      },
      "source": [
        "find How many males and females are born in each country"
      ]
    },
    {
      "cell_type": "code",
      "metadata": {
        "id": "FwH6VGltWir-",
        "colab_type": "code",
        "colab": {
          "base_uri": "https://localhost:8080/",
          "height": 238
        },
        "outputId": "aefe3f79-98d6-4e67-f98f-c8032f42ad79"
      },
      "source": [
        "gd = df.groupby(\"countryOfBirth\")[\"gender\"]\n",
        "gd.apply(lambda x:x.value_counts())"
      ],
      "execution_count": 11,
      "outputs": [
        {
          "output_type": "execute_result",
          "data": {
            "text/plain": [
              "countryOfBirth        \n",
              " Al-Jaza'ir     Male       1\n",
              " Argentina      Male       2\n",
              "                Female     2\n",
              " Australia      Male      12\n",
              " Bahamas        Male       1\n",
              "                          ..\n",
              " Zhonghua       Male       3\n",
              " Éire           Male      28\n",
              "                Female     3\n",
              " Österreich     Male      10\n",
              "                Female     2\n",
              "Name: gender, Length: 74, dtype: int64"
            ]
          },
          "metadata": {
            "tags": []
          },
          "execution_count": 11
        }
      ]
    },
    {
      "cell_type": "code",
      "metadata": {
        "id": "JZyTQTUlX7T4",
        "colab_type": "code",
        "colab": {
          "base_uri": "https://localhost:8080/",
          "height": 297
        },
        "outputId": "a71d0e44-34b2-4b2d-a522-c396e6358602"
      },
      "source": [
        "# select the name and age of the artist and get some statistical informations \n",
        "cols =['yearOfBirth', 'yearOfDeath' , 'age']\n",
        "nf = df[cols]\n",
        "nf.describe()"
      ],
      "execution_count": 12,
      "outputs": [
        {
          "output_type": "execute_result",
          "data": {
            "text/html": [
              "<div>\n",
              "<style scoped>\n",
              "    .dataframe tbody tr th:only-of-type {\n",
              "        vertical-align: middle;\n",
              "    }\n",
              "\n",
              "    .dataframe tbody tr th {\n",
              "        vertical-align: top;\n",
              "    }\n",
              "\n",
              "    .dataframe thead th {\n",
              "        text-align: right;\n",
              "    }\n",
              "</style>\n",
              "<table border=\"1\" class=\"dataframe\">\n",
              "  <thead>\n",
              "    <tr style=\"text-align: right;\">\n",
              "      <th></th>\n",
              "      <th>yearOfBirth</th>\n",
              "      <th>yearOfDeath</th>\n",
              "      <th>age</th>\n",
              "    </tr>\n",
              "  </thead>\n",
              "  <tbody>\n",
              "    <tr>\n",
              "      <th>count</th>\n",
              "      <td>1385.000000</td>\n",
              "      <td>1385.000000</td>\n",
              "      <td>1385.000000</td>\n",
              "    </tr>\n",
              "    <tr>\n",
              "      <th>mean</th>\n",
              "      <td>1850.115523</td>\n",
              "      <td>1919.790614</td>\n",
              "      <td>69.675090</td>\n",
              "    </tr>\n",
              "    <tr>\n",
              "      <th>std</th>\n",
              "      <td>70.658973</td>\n",
              "      <td>73.722753</td>\n",
              "      <td>15.533848</td>\n",
              "    </tr>\n",
              "    <tr>\n",
              "      <th>min</th>\n",
              "      <td>1497.000000</td>\n",
              "      <td>1543.000000</td>\n",
              "      <td>23.000000</td>\n",
              "    </tr>\n",
              "    <tr>\n",
              "      <th>25%</th>\n",
              "      <td>1815.000000</td>\n",
              "      <td>1882.000000</td>\n",
              "      <td>60.000000</td>\n",
              "    </tr>\n",
              "    <tr>\n",
              "      <th>50%</th>\n",
              "      <td>1868.000000</td>\n",
              "      <td>1939.000000</td>\n",
              "      <td>71.000000</td>\n",
              "    </tr>\n",
              "    <tr>\n",
              "      <th>75%</th>\n",
              "      <td>1901.000000</td>\n",
              "      <td>1974.000000</td>\n",
              "      <td>81.000000</td>\n",
              "    </tr>\n",
              "    <tr>\n",
              "      <th>max</th>\n",
              "      <td>1966.000000</td>\n",
              "      <td>2013.000000</td>\n",
              "      <td>106.000000</td>\n",
              "    </tr>\n",
              "  </tbody>\n",
              "</table>\n",
              "</div>"
            ],
            "text/plain": [
              "       yearOfBirth  yearOfDeath          age\n",
              "count  1385.000000  1385.000000  1385.000000\n",
              "mean   1850.115523  1919.790614    69.675090\n",
              "std      70.658973    73.722753    15.533848\n",
              "min    1497.000000  1543.000000    23.000000\n",
              "25%    1815.000000  1882.000000    60.000000\n",
              "50%    1868.000000  1939.000000    71.000000\n",
              "75%    1901.000000  1974.000000    81.000000\n",
              "max    1966.000000  2013.000000   106.000000"
            ]
          },
          "metadata": {
            "tags": []
          },
          "execution_count": 12
        }
      ]
    },
    {
      "cell_type": "code",
      "metadata": {
        "id": "YGWciQxZ61u4",
        "colab_type": "code",
        "colab": {
          "base_uri": "https://localhost:8080/",
          "height": 34
        },
        "outputId": "aea050cc-3b6f-449a-999f-b253848505ea"
      },
      "source": [
        "# Get the median year of birth and death \n",
        "\n",
        "nf['yearOfBirth'].median()\n",
        "nf['yearOfDeath'].median()\n"
      ],
      "execution_count": 16,
      "outputs": [
        {
          "output_type": "execute_result",
          "data": {
            "text/plain": [
              "1939.0"
            ]
          },
          "metadata": {
            "tags": []
          },
          "execution_count": 16
        }
      ]
    }
  ]
}